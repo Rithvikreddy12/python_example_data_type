{
 "cells": [
  {
   "cell_type": "code",
   "execution_count": 1,
   "id": "8e026aa4-209a-4367-947c-4f4014cc8538",
   "metadata": {},
   "outputs": [
    {
     "data": {
      "text/plain": [
       "[40, 20, 80, 50, 30, 60, 90]"
      ]
     },
     "execution_count": 1,
     "metadata": {},
     "output_type": "execute_result"
    }
   ],
   "source": [
    "dollars=[40,20,80,50,30,60,90]\n",
    "dollars"
   ]
  },
  {
   "cell_type": "code",
   "execution_count": 3,
   "id": "bca408a3-065a-458f-aac3-0fe48f637091",
   "metadata": {},
   "outputs": [
    {
     "name": "stdout",
     "output_type": "stream",
     "text": [
      "3400\n",
      "1700\n",
      "6800\n",
      "4250\n",
      "2550\n",
      "5100\n",
      "7650\n"
     ]
    }
   ],
   "source": [
    "for i in dollars:\n",
    "    print(i*85)"
   ]
  },
  {
   "cell_type": "code",
   "execution_count": 7,
   "id": "a1ab0437-e775-42e5-8e3b-2dc857e6b02d",
   "metadata": {},
   "outputs": [],
   "source": [
    "inr=[]\n",
    "for i in dollars:\n",
    "    inr.append(i*5)"
   ]
  },
  {
   "cell_type": "code",
   "execution_count": 9,
   "id": "05d0a9a2-be5b-42d8-9612-6cc35b627baa",
   "metadata": {},
   "outputs": [
    {
     "data": {
      "text/plain": [
       "[200, 100, 400, 250, 150, 300, 450]"
      ]
     },
     "execution_count": 9,
     "metadata": {},
     "output_type": "execute_result"
    }
   ],
   "source": [
    "inr"
   ]
  },
  {
   "cell_type": "code",
   "execution_count": 11,
   "id": "18adb750-38ec-497b-b787-627cdefbe145",
   "metadata": {},
   "outputs": [
    {
     "data": {
      "text/plain": [
       "[31, 45, 66, 33, 90, 78, 67, 87, 89, 93, 25, 59, 9, 81]"
      ]
     },
     "execution_count": 11,
     "metadata": {},
     "output_type": "execute_result"
    }
   ],
   "source": [
    "num=[31,45,66,33,90,78,67,87,89,93,25,59,9,81]\n",
    "num"
   ]
  },
  {
   "cell_type": "code",
   "execution_count": 28,
   "id": "25b5c150-234d-4425-958c-6f0e405647a8",
   "metadata": {},
   "outputs": [
    {
     "data": {
      "text/plain": [
       "[39, 45, 66, 93, 90, 78, 67, 87, 89, 93, 59, 49, 91]"
      ]
     },
     "execution_count": 28,
     "metadata": {},
     "output_type": "execute_result"
    }
   ],
   "source": [
    "num=[39,45,66,93,90,78,67,87,89,93,59,49,91]\n",
    "num"
   ]
  },
  {
   "cell_type": "code",
   "execution_count": 51,
   "id": "b2855647-fe5a-4ff7-88c1-dc90e68c10af",
   "metadata": {},
   "outputs": [
    {
     "name": "stdout",
     "output_type": "stream",
     "text": [
      "[39]\n",
      "[39, 45]\n",
      "[39, 45, 66]\n",
      "[39, 45, 66, 93]\n",
      "[39, 45, 66, 93, 90]\n",
      "[39, 45, 66, 93, 90, 75]\n",
      "[39, 45, 66, 93, 90, 75, 67]\n",
      "[39, 45, 66, 93, 90, 75, 67, 57]\n",
      "[39, 45, 66, 93, 90, 75, 67, 57, 59]\n",
      "[39, 45, 66, 93, 90, 75, 67, 57, 59, 93]\n",
      "[39, 45, 66, 93, 90, 75, 67, 57, 59, 93, 59]\n",
      "[39, 45, 66, 93, 90, 75, 67, 57, 59, 93, 59, 49]\n",
      "[39, 45, 66, 93, 90, 75, 67, 57, 59, 93, 59, 49, 91]\n"
     ]
    }
   ],
   "source": [
    "h=[]\n",
    "for i in num:\n",
    "    a=str(i)\n",
    "    b=a.replace('8','5')\n",
    "    c=int(b)\n",
    "    h.append(c)\n",
    "    print(h)"
   ]
  },
  {
   "cell_type": "code",
   "execution_count": 20,
   "id": "0b9e4263-f366-4b6b-9cf0-81051cf32fe7",
   "metadata": {},
   "outputs": [],
   "source": [
    "j=[]\n",
    "k=[]\n",
    "for i in num:\n",
    "    if i%2==0:\n",
    "        j.append(i)\n",
    "    else:\n",
    "        k.append(i)"
   ]
  },
  {
   "cell_type": "code",
   "execution_count": 22,
   "id": "ee4d62c8-4d94-4be6-bf8e-4d71606c4468",
   "metadata": {},
   "outputs": [
    {
     "data": {
      "text/plain": [
       "[66, 90, 78]"
      ]
     },
     "execution_count": 22,
     "metadata": {},
     "output_type": "execute_result"
    }
   ],
   "source": [
    "j"
   ]
  },
  {
   "cell_type": "code",
   "execution_count": 24,
   "id": "934c702f-adc4-442c-974b-d0364d5ac986",
   "metadata": {},
   "outputs": [
    {
     "data": {
      "text/plain": [
       "[31, 45, 33, 67, 87, 89, 93, 25, 59, 9, 81]"
      ]
     },
     "execution_count": 24,
     "metadata": {},
     "output_type": "execute_result"
    }
   ],
   "source": [
    "k"
   ]
  },
  {
   "cell_type": "code",
   "execution_count": null,
   "id": "f8ed80e0-d002-42d4-8704-f606a22080d6",
   "metadata": {},
   "outputs": [],
   "source": []
  }
 ],
 "metadata": {
  "kernelspec": {
   "display_name": "Python [conda env:base] *",
   "language": "python",
   "name": "conda-base-py"
  },
  "language_info": {
   "codemirror_mode": {
    "name": "ipython",
    "version": 3
   },
   "file_extension": ".py",
   "mimetype": "text/x-python",
   "name": "python",
   "nbconvert_exporter": "python",
   "pygments_lexer": "ipython3",
   "version": "3.12.7"
  }
 },
 "nbformat": 4,
 "nbformat_minor": 5
}
